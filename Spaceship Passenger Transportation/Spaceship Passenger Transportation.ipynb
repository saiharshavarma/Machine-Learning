{
 "cells": [
  {
   "cell_type": "code",
   "execution_count": 1,
   "id": "c4bd4dc3",
   "metadata": {},
   "outputs": [],
   "source": [
    "import numpy as np\n",
    "import pandas as pd\n",
    "from sklearn.preprocessing import LabelEncoder\n",
    "from sklearn.model_selection import train_test_split\n",
    "from sklearn.metrics import accuracy_score"
   ]
  },
  {
   "cell_type": "code",
   "execution_count": 54,
   "id": "a0d5ec4b",
   "metadata": {},
   "outputs": [
    {
     "data": {
      "text/html": [
       "<div>\n",
       "<style scoped>\n",
       "    .dataframe tbody tr th:only-of-type {\n",
       "        vertical-align: middle;\n",
       "    }\n",
       "\n",
       "    .dataframe tbody tr th {\n",
       "        vertical-align: top;\n",
       "    }\n",
       "\n",
       "    .dataframe thead th {\n",
       "        text-align: right;\n",
       "    }\n",
       "</style>\n",
       "<table border=\"1\" class=\"dataframe\">\n",
       "  <thead>\n",
       "    <tr style=\"text-align: right;\">\n",
       "      <th></th>\n",
       "      <th>PassengerId</th>\n",
       "      <th>HomePlanet</th>\n",
       "      <th>CryoSleep</th>\n",
       "      <th>Cabin</th>\n",
       "      <th>Destination</th>\n",
       "      <th>Age</th>\n",
       "      <th>VIP</th>\n",
       "      <th>RoomService</th>\n",
       "      <th>FoodCourt</th>\n",
       "      <th>ShoppingMall</th>\n",
       "      <th>Spa</th>\n",
       "      <th>VRDeck</th>\n",
       "      <th>Name</th>\n",
       "      <th>Transported</th>\n",
       "    </tr>\n",
       "  </thead>\n",
       "  <tbody>\n",
       "    <tr>\n",
       "      <th>0</th>\n",
       "      <td>0001_01</td>\n",
       "      <td>Europa</td>\n",
       "      <td>False</td>\n",
       "      <td>B/0/P</td>\n",
       "      <td>TRAPPIST-1e</td>\n",
       "      <td>39.0</td>\n",
       "      <td>False</td>\n",
       "      <td>0.0</td>\n",
       "      <td>0.0</td>\n",
       "      <td>0.0</td>\n",
       "      <td>0.0</td>\n",
       "      <td>0.0</td>\n",
       "      <td>Maham Ofracculy</td>\n",
       "      <td>False</td>\n",
       "    </tr>\n",
       "    <tr>\n",
       "      <th>1</th>\n",
       "      <td>0002_01</td>\n",
       "      <td>Earth</td>\n",
       "      <td>False</td>\n",
       "      <td>F/0/S</td>\n",
       "      <td>TRAPPIST-1e</td>\n",
       "      <td>24.0</td>\n",
       "      <td>False</td>\n",
       "      <td>109.0</td>\n",
       "      <td>9.0</td>\n",
       "      <td>25.0</td>\n",
       "      <td>549.0</td>\n",
       "      <td>44.0</td>\n",
       "      <td>Juanna Vines</td>\n",
       "      <td>True</td>\n",
       "    </tr>\n",
       "    <tr>\n",
       "      <th>2</th>\n",
       "      <td>0003_01</td>\n",
       "      <td>Europa</td>\n",
       "      <td>False</td>\n",
       "      <td>A/0/S</td>\n",
       "      <td>TRAPPIST-1e</td>\n",
       "      <td>58.0</td>\n",
       "      <td>True</td>\n",
       "      <td>43.0</td>\n",
       "      <td>3576.0</td>\n",
       "      <td>0.0</td>\n",
       "      <td>6715.0</td>\n",
       "      <td>49.0</td>\n",
       "      <td>Altark Susent</td>\n",
       "      <td>False</td>\n",
       "    </tr>\n",
       "    <tr>\n",
       "      <th>3</th>\n",
       "      <td>0003_02</td>\n",
       "      <td>Europa</td>\n",
       "      <td>False</td>\n",
       "      <td>A/0/S</td>\n",
       "      <td>TRAPPIST-1e</td>\n",
       "      <td>33.0</td>\n",
       "      <td>False</td>\n",
       "      <td>0.0</td>\n",
       "      <td>1283.0</td>\n",
       "      <td>371.0</td>\n",
       "      <td>3329.0</td>\n",
       "      <td>193.0</td>\n",
       "      <td>Solam Susent</td>\n",
       "      <td>False</td>\n",
       "    </tr>\n",
       "    <tr>\n",
       "      <th>4</th>\n",
       "      <td>0004_01</td>\n",
       "      <td>Earth</td>\n",
       "      <td>False</td>\n",
       "      <td>F/1/S</td>\n",
       "      <td>TRAPPIST-1e</td>\n",
       "      <td>16.0</td>\n",
       "      <td>False</td>\n",
       "      <td>303.0</td>\n",
       "      <td>70.0</td>\n",
       "      <td>151.0</td>\n",
       "      <td>565.0</td>\n",
       "      <td>2.0</td>\n",
       "      <td>Willy Santantines</td>\n",
       "      <td>True</td>\n",
       "    </tr>\n",
       "  </tbody>\n",
       "</table>\n",
       "</div>"
      ],
      "text/plain": [
       "  PassengerId HomePlanet CryoSleep  Cabin  Destination   Age    VIP  \\\n",
       "0     0001_01     Europa     False  B/0/P  TRAPPIST-1e  39.0  False   \n",
       "1     0002_01      Earth     False  F/0/S  TRAPPIST-1e  24.0  False   \n",
       "2     0003_01     Europa     False  A/0/S  TRAPPIST-1e  58.0   True   \n",
       "3     0003_02     Europa     False  A/0/S  TRAPPIST-1e  33.0  False   \n",
       "4     0004_01      Earth     False  F/1/S  TRAPPIST-1e  16.0  False   \n",
       "\n",
       "   RoomService  FoodCourt  ShoppingMall     Spa  VRDeck               Name  \\\n",
       "0          0.0        0.0           0.0     0.0     0.0    Maham Ofracculy   \n",
       "1        109.0        9.0          25.0   549.0    44.0       Juanna Vines   \n",
       "2         43.0     3576.0           0.0  6715.0    49.0      Altark Susent   \n",
       "3          0.0     1283.0         371.0  3329.0   193.0       Solam Susent   \n",
       "4        303.0       70.0         151.0   565.0     2.0  Willy Santantines   \n",
       "\n",
       "   Transported  \n",
       "0        False  \n",
       "1         True  \n",
       "2        False  \n",
       "3        False  \n",
       "4         True  "
      ]
     },
     "execution_count": 54,
     "metadata": {},
     "output_type": "execute_result"
    }
   ],
   "source": [
    "train_file_path = \"train.csv\"\n",
    "\n",
    "train_data = pd.read_csv(train_file_path)\n",
    "\n",
    "train_data.head()"
   ]
  },
  {
   "cell_type": "markdown",
   "id": "efcb7065",
   "metadata": {},
   "source": [
    "## Data Analysis and Pre-processing"
   ]
  },
  {
   "cell_type": "code",
   "execution_count": 55,
   "id": "99521050",
   "metadata": {},
   "outputs": [
    {
     "data": {
      "text/plain": [
       "Index(['PassengerId', 'HomePlanet', 'CryoSleep', 'Cabin', 'Destination', 'Age',\n",
       "       'VIP', 'RoomService', 'FoodCourt', 'ShoppingMall', 'Spa', 'VRDeck',\n",
       "       'Name', 'Transported'],\n",
       "      dtype='object')"
      ]
     },
     "execution_count": 55,
     "metadata": {},
     "output_type": "execute_result"
    }
   ],
   "source": [
    "train_data.columns"
   ]
  },
  {
   "cell_type": "code",
   "execution_count": 56,
   "id": "faf289ff",
   "metadata": {},
   "outputs": [
    {
     "name": "stdout",
     "output_type": "stream",
     "text": [
      "HomePlanet\n",
      "['Europa' 'Earth' 'Mars' nan] \n",
      "\n",
      "CryoSleep\n",
      "[False True nan] \n",
      "\n",
      "Destination\n",
      "['TRAPPIST-1e' 'PSO J318.5-22' '55 Cancri e' nan] \n",
      "\n",
      "Age\n",
      "[39. 24. 58. 33. 16. 44. 26. 28. 35. 14. 34. 45. 32. 48. 31. 27.  0.  1.\n",
      " 49. 29. 10.  7. 21. 62. 15. 43. 47.  2. 20. 23. 30. 17. 55.  4. 19. 56.\n",
      " nan 25. 38. 36. 22. 18. 42. 37. 13.  8. 40.  3. 54.  9.  6. 64. 67. 61.\n",
      " 50. 41. 57. 11. 52. 51. 46. 60. 63. 59.  5. 79. 68. 74. 12. 53. 65. 71.\n",
      " 75. 70. 76. 78. 73. 66. 69. 72. 77.] \n",
      "\n",
      "VIP\n",
      "[False True nan] \n",
      "\n",
      "RoomService\n",
      "[   0.  109.   43. ... 1569. 8586.  745.] \n",
      "\n",
      "FoodCourt\n",
      "[   0.    9. 3576. ... 3208. 6819. 4688.] \n",
      "\n",
      "ShoppingMall\n",
      "[   0.   25.  371. ... 1085.  510. 1872.] \n",
      "\n",
      "Spa\n",
      "[   0.  549. 6715. ... 2868. 1107. 1643.] \n",
      "\n",
      "VRDeck\n",
      "[   0.   44.   49. ... 1164.  971. 3235.] \n",
      "\n",
      "Transported\n",
      "[False  True] \n",
      "\n"
     ]
    }
   ],
   "source": [
    "# Unique values of each column\n",
    "features = list(train_data.columns)\n",
    "features.remove(\"PassengerId\")\n",
    "features.remove(\"Cabin\")\n",
    "features.remove(\"Name\")\n",
    "\n",
    "\n",
    "for column in features:\n",
    "    print(column)\n",
    "    print(train_data[column].unique(), \"\\n\")"
   ]
  },
  {
   "cell_type": "code",
   "execution_count": 57,
   "id": "f638f595",
   "metadata": {},
   "outputs": [
    {
     "data": {
      "text/plain": [
       "HomePlanet      True\n",
       "CryoSleep       True\n",
       "Cabin           True\n",
       "Destination     True\n",
       "Age             True\n",
       "VIP             True\n",
       "RoomService     True\n",
       "FoodCourt       True\n",
       "ShoppingMall    True\n",
       "Spa             True\n",
       "VRDeck          True\n",
       "Name            True\n",
       "dtype: bool"
      ]
     },
     "execution_count": 57,
     "metadata": {},
     "output_type": "execute_result"
    }
   ],
   "source": [
    "nullcols = train_data.isnull().any()\n",
    "nullcols[nullcols == True]"
   ]
  },
  {
   "cell_type": "code",
   "execution_count": 58,
   "id": "b6bba19a",
   "metadata": {},
   "outputs": [],
   "source": [
    "X = train_data.copy()"
   ]
  },
  {
   "cell_type": "code",
   "execution_count": 59,
   "id": "00920146",
   "metadata": {},
   "outputs": [],
   "source": [
    "X.drop(\"PassengerId\", axis=1, inplace=True)\n",
    "#X.drop(\"VIP\", axis=1, inplace=True)\n",
    "#X.drop(\"RoomService\", axis=1, inplace=True)\n",
    "#X.drop(\"FoodCourt\", axis=1, inplace=True)\n",
    "#X.drop(\"ShoppingMall\", axis=1, inplace=True)\n",
    "#X.drop(\"Spa\", axis=1, inplace=True)\n",
    "#X.drop(\"VRDeck\", axis=1, inplace=True)\n",
    "X.drop(\"Name\", axis=1, inplace=True)\n",
    "X.drop(\"Cabin\", axis=1, inplace=True)"
   ]
  },
  {
   "cell_type": "code",
   "execution_count": 60,
   "id": "40359b1c",
   "metadata": {},
   "outputs": [],
   "source": [
    "X.dropna(subset=[\"HomePlanet\", \"Destination\", \"CryoSleep\"], inplace=True)"
   ]
  },
  {
   "cell_type": "code",
   "execution_count": 61,
   "id": "03cdb455",
   "metadata": {},
   "outputs": [],
   "source": [
    "X[\"Age\"].fillna(X[\"Age\"].mean(), inplace=True)\n",
    "X[\"VIP\"].fillna(X[\"VIP\"].mean(), inplace=True)\n",
    "X[\"RoomService\"].fillna(X[\"RoomService\"].mean(), inplace=True)\n",
    "X[\"FoodCourt\"].fillna(X[\"FoodCourt\"].mean(), inplace=True)\n",
    "X[\"ShoppingMall\"].fillna(X[\"ShoppingMall\"].mean(), inplace=True)\n",
    "X[\"VRDeck\"].fillna(X[\"VRDeck\"].mean(), inplace=True)\n",
    "X[\"Spa\"].fillna(X[\"Spa\"].mean(), inplace=True)"
   ]
  },
  {
   "cell_type": "code",
   "execution_count": 62,
   "id": "0b82f32e",
   "metadata": {},
   "outputs": [],
   "source": [
    "selected_features = [\"HomePlanet\", \"CryoSleep\", \"Destination\", \"Age\", \"Transported\"]"
   ]
  },
  {
   "cell_type": "code",
   "execution_count": 63,
   "id": "8e08db9d",
   "metadata": {},
   "outputs": [
    {
     "data": {
      "text/plain": [
       "Series([], dtype: bool)"
      ]
     },
     "execution_count": 63,
     "metadata": {},
     "output_type": "execute_result"
    }
   ],
   "source": [
    "nullcols = X.isnull().any()\n",
    "nullcols[nullcols == True]"
   ]
  },
  {
   "cell_type": "code",
   "execution_count": 64,
   "id": "07eb0a25",
   "metadata": {},
   "outputs": [
    {
     "name": "stdout",
     "output_type": "stream",
     "text": [
      "HomePlanet  Transported\n",
      "Earth       False          57.539863\n",
      "            True           42.460137\n",
      "Europa      True           65.947007\n",
      "            False          34.052993\n",
      "Mars        True           52.238806\n",
      "            False          47.761194\n",
      "Name: Transported, dtype: float64\n",
      "CryoSleep  Transported\n",
      "False      False          67.045674\n",
      "           True           32.954326\n",
      "True       True           81.434454\n",
      "           False          18.565546\n",
      "Name: Transported, dtype: float64\n",
      "Destination    Transported\n",
      "55 Cancri e    True           61.008111\n",
      "               False          38.991889\n",
      "PSO J318.5-22  True           50.328515\n",
      "               False          49.671485\n",
      "TRAPPIST-1e    False          52.866809\n",
      "               True           47.133191\n",
      "Name: Transported, dtype: float64\n",
      "Age   Transported\n",
      "0.0   True            82.840237\n",
      "      False           17.159763\n",
      "1.0   True            75.000000\n",
      "      False           25.000000\n",
      "2.0   True            67.647059\n",
      "                        ...    \n",
      "77.0  False           50.000000\n",
      "      True            50.000000\n",
      "78.0  False           66.666667\n",
      "      True            33.333333\n",
      "79.0  False          100.000000\n",
      "Name: Transported, Length: 161, dtype: float64\n",
      "Transported  Transported\n",
      "False        False          100.0\n",
      "True         True           100.0\n",
      "Name: Transported, dtype: float64\n"
     ]
    }
   ],
   "source": [
    "for feature in selected_features:\n",
    "    analysis = X.groupby(feature)\n",
    "    count = analysis[\"Transported\"].value_counts(normalize=1)*100\n",
    "    print(count)"
   ]
  },
  {
   "cell_type": "code",
   "execution_count": 65,
   "id": "a39a8847",
   "metadata": {},
   "outputs": [],
   "source": [
    "le = LabelEncoder()\n",
    "le.fit(X[\"HomePlanet\"])\n",
    "X[\"HomePlanet\"] = le.transform(X[\"HomePlanet\"])\n",
    "\n",
    "le = LabelEncoder()\n",
    "le.fit(X[\"Destination\"])\n",
    "X[\"Destination\"] = le.transform(X[\"Destination\"])\n",
    "\n",
    "le = LabelEncoder()\n",
    "le.fit(X[\"CryoSleep\"])\n",
    "X[\"CryoSleep\"] = le.transform(X[\"CryoSleep\"])\n",
    "\n",
    "le = LabelEncoder()\n",
    "le.fit(X[\"Transported\"])\n",
    "X[\"Transported\"] = le.transform(X[\"Transported\"])"
   ]
  },
  {
   "cell_type": "markdown",
   "id": "c6714ad0",
   "metadata": {},
   "source": [
    "## Machine Learning"
   ]
  },
  {
   "cell_type": "code",
   "execution_count": 66,
   "id": "09feebe3",
   "metadata": {},
   "outputs": [
    {
     "data": {
      "text/html": [
       "<div>\n",
       "<style scoped>\n",
       "    .dataframe tbody tr th:only-of-type {\n",
       "        vertical-align: middle;\n",
       "    }\n",
       "\n",
       "    .dataframe tbody tr th {\n",
       "        vertical-align: top;\n",
       "    }\n",
       "\n",
       "    .dataframe thead th {\n",
       "        text-align: right;\n",
       "    }\n",
       "</style>\n",
       "<table border=\"1\" class=\"dataframe\">\n",
       "  <thead>\n",
       "    <tr style=\"text-align: right;\">\n",
       "      <th></th>\n",
       "      <th>HomePlanet</th>\n",
       "      <th>CryoSleep</th>\n",
       "      <th>Destination</th>\n",
       "      <th>Age</th>\n",
       "      <th>Transported</th>\n",
       "    </tr>\n",
       "  </thead>\n",
       "  <tbody>\n",
       "    <tr>\n",
       "      <th>0</th>\n",
       "      <td>1</td>\n",
       "      <td>0</td>\n",
       "      <td>2</td>\n",
       "      <td>39.0</td>\n",
       "      <td>0</td>\n",
       "    </tr>\n",
       "    <tr>\n",
       "      <th>1</th>\n",
       "      <td>0</td>\n",
       "      <td>0</td>\n",
       "      <td>2</td>\n",
       "      <td>24.0</td>\n",
       "      <td>1</td>\n",
       "    </tr>\n",
       "    <tr>\n",
       "      <th>2</th>\n",
       "      <td>1</td>\n",
       "      <td>0</td>\n",
       "      <td>2</td>\n",
       "      <td>58.0</td>\n",
       "      <td>0</td>\n",
       "    </tr>\n",
       "    <tr>\n",
       "      <th>3</th>\n",
       "      <td>1</td>\n",
       "      <td>0</td>\n",
       "      <td>2</td>\n",
       "      <td>33.0</td>\n",
       "      <td>0</td>\n",
       "    </tr>\n",
       "    <tr>\n",
       "      <th>4</th>\n",
       "      <td>0</td>\n",
       "      <td>0</td>\n",
       "      <td>2</td>\n",
       "      <td>16.0</td>\n",
       "      <td>1</td>\n",
       "    </tr>\n",
       "  </tbody>\n",
       "</table>\n",
       "</div>"
      ],
      "text/plain": [
       "   HomePlanet  CryoSleep  Destination   Age  Transported\n",
       "0           1          0            2  39.0            0\n",
       "1           0          0            2  24.0            1\n",
       "2           1          0            2  58.0            0\n",
       "3           1          0            2  33.0            0\n",
       "4           0          0            2  16.0            1"
      ]
     },
     "execution_count": 66,
     "metadata": {},
     "output_type": "execute_result"
    }
   ],
   "source": [
    "X = X[selected_features]\n",
    "X.head()"
   ]
  },
  {
   "cell_type": "code",
   "execution_count": 67,
   "id": "35f94b9a",
   "metadata": {},
   "outputs": [
    {
     "name": "stderr",
     "output_type": "stream",
     "text": [
      "c:\\users\\harsha\\appdata\\local\\programs\\python\\python39\\lib\\site-packages\\pandas\\core\\frame.py:4901: SettingWithCopyWarning: \n",
      "A value is trying to be set on a copy of a slice from a DataFrame\n",
      "\n",
      "See the caveats in the documentation: https://pandas.pydata.org/pandas-docs/stable/user_guide/indexing.html#returning-a-view-versus-a-copy\n",
      "  return super().drop(\n"
     ]
    }
   ],
   "source": [
    "y = X.Transported\n",
    "X.drop(\"Transported\", axis=1, inplace=True)"
   ]
  },
  {
   "cell_type": "code",
   "execution_count": 68,
   "id": "0b8dac4a",
   "metadata": {},
   "outputs": [],
   "source": [
    "train_X, test_X, train_y, test_y = train_test_split(X, y, train_size = 0.7, random_state = 0)"
   ]
  },
  {
   "cell_type": "code",
   "execution_count": 71,
   "id": "92642f6c",
   "metadata": {},
   "outputs": [
    {
     "name": "stdout",
     "output_type": "stream",
     "text": [
      "RandomForestClassifier Accuracy Score:  0.7038255861785273\n",
      "DecisionTreeClassifier Accuracy Score:  0.7087618264088852\n",
      "KNeighborsClassifier Accuracy Score:  0.6853146853146853\n",
      "SVC Accuracy Score:  0.7248046071575484\n",
      "GaussianNB Accuracy Score:  0.7145207733443028\n"
     ]
    }
   ],
   "source": [
    "from sklearn.ensemble import RandomForestClassifier\n",
    "from sklearn.tree import DecisionTreeClassifier\n",
    "from sklearn.neighbors import KNeighborsClassifier\n",
    "from sklearn.svm import SVC\n",
    "from sklearn.naive_bayes import GaussianNB\n",
    "\n",
    "model1 = RandomForestClassifier(random_state=0)\n",
    "model1.fit(train_X, train_y)\n",
    "\n",
    "model2 = DecisionTreeClassifier()\n",
    "model2.fit(train_X, train_y)\n",
    "\n",
    "model3 = KNeighborsClassifier()\n",
    "model3.fit(train_X, train_y)\n",
    "\n",
    "model4 = SVC()\n",
    "model4.fit(train_X, train_y)\n",
    "\n",
    "model5 = GaussianNB()\n",
    "model5.fit(train_X, train_y)\n",
    "\n",
    "y_pred1 = model1.predict(test_X)\n",
    "y_pred2 = model2.predict(test_X)\n",
    "y_pred3 = model3.predict(test_X)\n",
    "y_pred4 = model4.predict(test_X)\n",
    "y_pred5 = model5.predict(test_X)\n",
    "\n",
    "print(\"RandomForestClassifier Accuracy Score: \", accuracy_score(test_y, y_pred1))\n",
    "print(\"DecisionTreeClassifier Accuracy Score: \", accuracy_score(test_y, y_pred2))\n",
    "print(\"KNeighborsClassifier Accuracy Score: \", accuracy_score(test_y, y_pred3))\n",
    "print(\"SVC Accuracy Score: \", accuracy_score(test_y, y_pred4))\n",
    "print(\"GaussianNB Accuracy Score: \", accuracy_score(test_y, y_pred5))"
   ]
  },
  {
   "cell_type": "code",
   "execution_count": null,
   "id": "c3a8e03a",
   "metadata": {},
   "outputs": [],
   "source": []
  }
 ],
 "metadata": {
  "kernelspec": {
   "display_name": "Python 3 (ipykernel)",
   "language": "python",
   "name": "python3"
  },
  "language_info": {
   "codemirror_mode": {
    "name": "ipython",
    "version": 3
   },
   "file_extension": ".py",
   "mimetype": "text/x-python",
   "name": "python",
   "nbconvert_exporter": "python",
   "pygments_lexer": "ipython3",
   "version": "3.9.2"
  }
 },
 "nbformat": 4,
 "nbformat_minor": 5
}
